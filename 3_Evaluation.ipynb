{
 "cells": [
  {
   "cell_type": "markdown",
   "id": "340c692c-8ee5-4040-9cca-c867a5566930",
   "metadata": {},
   "source": [
    "<h2> Evaluation</h2>\n",
    "Now we want to find out what we got.<br>\n",
    "<br>\n",
    "What we are bringing is 200 simulated data sets from a hurdle distriburion with the non-zero data being exp(generalized Gaussian). This data is similar to what I was working with in a previous company. In particular, we are simluating an A/B test where the test group is slightly better than the control group. I care about the probability T is better, calculated from the data set.<br>\n",
    "<br>\n",
    "In the first file, we have three sets of calculations:\n",
    "<ol><li>Bayesian with good structure and hyperparameters that seem appropriate to the data</li>\n",
    "    <li>Bayesian with good structure and hyperparameters that seem fairly poor for the data</li>\n",
    "    <li>T-Tests on the data</li>\n",
    "</ol>\n",
    "I am going to make three analysis:\n",
    "<ol><li>First, calcualte how often the Bayesian methods failed. The exception handling is getting the probability of T being best as 0.50 in the event of an issue.</li>\n",
    "    <li>Second, for the cases where both methids passed calculate a 0/1 variable that the probability that T is better is 0.95 or better, and a 0/1 variable that the T-Test p-value is under 0.05. This is an Un-Bayesian test, but it lets me compare Bayesian methods with traditional methods</li>\n",
    "    <li> Also, graph the probability that T is better from both PyMC methods to see if there is a difference.</li>\n",
    "</ol>\n",
    "<br> \n",
    "In the second file we have the results with a normal prior and also T_Test results. "
   ]
  },
  {
   "cell_type": "code",
   "execution_count": 1,
   "id": "f55865ba-7ce4-46ab-9a98-4f8c019a3f11",
   "metadata": {},
   "outputs": [],
   "source": [
    "import pandas as pd\n",
    "import numpy as np\n",
    "import math as m\n",
    "import pickle"
   ]
  },
  {
   "cell_type": "code",
   "execution_count": 2,
   "id": "5ecdda38-d1a9-4cc0-87d7-f6e6f99ac8c4",
   "metadata": {},
   "outputs": [],
   "source": [
    "resultFile1 = r\"C:\\Users\\efree\\BayesTests_v0.pkl\""
   ]
  },
  {
   "cell_type": "code",
   "execution_count": 3,
   "id": "f03d20d5-33a2-461b-8b75-15288a96e877",
   "metadata": {},
   "outputs": [],
   "source": [
    "with open(resultFile1, 'rb') as fileName:\n",
    "          resultList1 = pickle.load(fileName)\n",
    "dataResults1 = pd.DataFrame(data=resultList1, columns=['tBayes_good', 'tBayes_poor', 't_mean', 'c_mean', 'p_value'])"
   ]
  },
  {
   "cell_type": "code",
   "execution_count": 4,
   "id": "4e064a7d-3201-4ce5-bafb-53304d385e99",
   "metadata": {},
   "outputs": [],
   "source": [
    "dataResults1['Bayes_Good_Ran'] = dataResults1.apply(lambda x: 0 if x['tBayes_good']==0.50 else 1, axis=1)\n",
    "dataResults1['Bayes_Poor_Ran'] = dataResults1.apply(lambda x: 0 if x['tBayes_poor']==0.50 else 1, axis=1)\n",
    "dataResults1_BothRan = dataResults1.query('Bayes_Good_Ran==1 and Bayes_Poor_Ran==1').copy()"
   ]
  },
  {
   "cell_type": "code",
   "execution_count": 5,
   "id": "ffb998b8-6a83-4629-b810-85af3e2d914a",
   "metadata": {},
   "outputs": [
    {
     "name": "stdout",
     "output_type": "stream",
     "text": [
      "Success rate with good hyperparameters:  0.9857142857142858\n",
      "Success rate with poor hyperparameters:  0.919047619047619\n"
     ]
    }
   ],
   "source": [
    "print(\"Success rate with good hyperparameters: \", dataResults1['Bayes_Good_Ran'].mean())\n",
    "print(\"Success rate with poor hyperparameters: \", dataResults1['Bayes_Poor_Ran'].mean())"
   ]
  },
  {
   "cell_type": "code",
   "execution_count": 6,
   "id": "6068b198-815b-4135-b176-8734a743852d",
   "metadata": {},
   "outputs": [],
   "source": [
    "dataResults1_BothRan['Bayes_Poor_Passed'] = dataResults1_BothRan.apply(lambda x: 1 if x['tBayes_poor']>0.95  else 0, axis=1)\n",
    "dataResults1_BothRan['Bayes_Good_Passed'] = dataResults1_BothRan.apply(lambda x: 1 if x['tBayes_good']>0.95  else 0, axis=1)\n",
    "dataResults1_BothRan['TTest_Passed']      = dataResults1_BothRan.apply(lambda x: 1 if x['p_value']<0.05 else 0, axis=1)"
   ]
  },
  {
   "cell_type": "code",
   "execution_count": 7,
   "id": "aeff1658-7c3a-4caa-9edc-34caaa7c41b3",
   "metadata": {},
   "outputs": [
    {
     "name": "stdout",
     "output_type": "stream",
     "text": [
      "Percent of the tests the good Bayes prior passed 95%: 0.3769633507853403\n",
      "Percent of the tests the poor Bayes prior passed 95%: 0.3717277486910995\n",
      "Percent of the tests the T-Test p-value was under 5%: 0.15706806282722513\n",
      "Expected if no lift from random chance:  0.05\n"
     ]
    }
   ],
   "source": [
    "print(\"Percent of the tests the good Bayes prior passed 95%:\", dataResults1_BothRan['Bayes_Good_Passed'].mean())\n",
    "print(\"Percent of the tests the poor Bayes prior passed 95%:\", dataResults1_BothRan['Bayes_Poor_Passed'].mean())\n",
    "print(\"Percent of the tests the T-Test p-value was under 5%:\", dataResults1_BothRan['TTest_Passed'].mean())\n",
    "print(\"Expected if no lift from random chance: \", 0.05)"
   ]
  },
  {
   "cell_type": "code",
   "execution_count": 8,
   "id": "13702441-3d58-421b-bcfd-b01e2c649f4d",
   "metadata": {},
   "outputs": [
    {
     "data": {
      "text/plain": [
       "<Axes: xlabel='tBayes_good', ylabel='tBayes_poor'>"
      ]
     },
     "execution_count": 8,
     "metadata": {},
     "output_type": "execute_result"
    },
    {
     "data": {
      "image/png": "[encoded data removed]",
      "text/plain": [
       "<Figure size 640x480 with 1 Axes>"
      ]
     },
     "metadata": {},
     "output_type": "display_data"
    }
   ],
   "source": [
    "dataResults1_BothRan.plot.scatter(x='tBayes_good', y='tBayes_poor')"
   ]
  },
  {
   "cell_type": "markdown",
   "id": "e3e3815a-ab2e-4fa1-9935-61d7cd2f8310",
   "metadata": {},
   "source": [
    "<h2>Results</h2>\n",
    "When the PyMC code ran, the results are identical. PyMC with better-chosen hyperparameters runs more often. Both Bayesian approaches are much more powerful than the T-Test approach."
   ]
  },
  {
   "cell_type": "code",
   "execution_count": null,
   "id": "cfca9574-f4cb-43f0-95b1-d4a05fb02965",
   "metadata": {},
   "outputs": [],
   "source": []
  },
  {
   "cell_type": "markdown",
   "id": "a3b3a258-0e69-46c4-bc6e-5f5b032986d2",
   "metadata": {},
   "source": [
    "<h2>Using a Normal Prior</h2>\n",
    "Now we run the analysis with a Normal prior, and making a comparison between Bayesian with a normal prior and T-Tests.<br>\n",
    "<br>\n",
    "Why didn't I run the Normal prior tests on the same datasets as the two hurdle model tests above? The normal priors kept failing. I never figured out why, I just put the normal runs in their own workbook."
   ]
  },
  {
   "cell_type": "code",
   "execution_count": 9,
   "id": "56aee1d5-59d6-4926-bb6f-fcb5011dcdbb",
   "metadata": {},
   "outputs": [],
   "source": [
    "resultFile2 = r\"C:\\Users\\efree\\BayesTests_Normal_v0.pkl\""
   ]
  },
  {
   "cell_type": "code",
   "execution_count": 10,
   "id": "6f341c47-31f8-4901-a628-744b883f2578",
   "metadata": {},
   "outputs": [],
   "source": [
    "with open(resultFile2, 'rb') as fileName:\n",
    "          resultList2 = pickle.load(fileName)\n",
    "dataResults2 = pd.DataFrame(data=resultList2, columns=['tBayes_normal', 't_mean', 'c_mean', 'p_value'])"
   ]
  },
  {
   "cell_type": "code",
   "execution_count": 11,
   "id": "4b1e60bf-46c3-4544-a0aa-c5f23c7908a4",
   "metadata": {},
   "outputs": [],
   "source": [
    "dataResults2['Bayes_Normal_Ran'] = dataResults2.apply(lambda x: 0 if x['tBayes_normal']==0.50 else 1, axis=1)\n",
    "dataResults2_BothRan = dataResults2.query('Bayes_Normal_Ran==1').copy()"
   ]
  },
  {
   "cell_type": "code",
   "execution_count": 12,
   "id": "869ec78d-1d38-4736-8b65-90f42cdbc03f",
   "metadata": {},
   "outputs": [
    {
     "name": "stdout",
     "output_type": "stream",
     "text": [
      "Success rate with Normal prior:  0.905\n"
     ]
    }
   ],
   "source": [
    "print(\"Success rate with Normal prior: \", dataResults2['Bayes_Normal_Ran'].mean())"
   ]
  },
  {
   "cell_type": "code",
   "execution_count": 13,
   "id": "a54bc390-4e98-40f7-9314-25f1e9341414",
   "metadata": {},
   "outputs": [],
   "source": [
    "dataResults2_BothRan['Bayes_Normal_Passed'] = dataResults2_BothRan.apply(lambda x: 1 if x['tBayes_normal']>0.95  else 0, axis=1)\n",
    "dataResults2_BothRan['TTest_Passed']        = dataResults2_BothRan.apply(lambda x: 1 if x['p_value']<0.05 else 0, axis=1)"
   ]
  },
  {
   "cell_type": "code",
   "execution_count": 14,
   "id": "fd8b9b50-5e9f-412b-8b57-778eceed6617",
   "metadata": {},
   "outputs": [
    {
     "name": "stdout",
     "output_type": "stream",
     "text": [
      "Percent of the tests the Normal prior passed 95%: 0.26519337016574585\n",
      "Percent of the tests the T-Test p-value was under 5%: 0.1712707182320442\n",
      "Expected if no lift from random chance:  0.05\n"
     ]
    }
   ],
   "source": [
    "print(\"Percent of the tests the Normal prior passed 95%:\", dataResults2_BothRan['Bayes_Normal_Passed'].mean())\n",
    "print(\"Percent of the tests the T-Test p-value was under 5%:\", dataResults2_BothRan['TTest_Passed'].mean())\n",
    "print(\"Expected if no lift from random chance: \", 0.05)"
   ]
  },
  {
   "cell_type": "markdown",
   "id": "5047a9f8-db26-4650-86b4-1648aa7f1865",
   "metadata": {},
   "source": [
    "<h2>Results</h2>\n",
    "Bayes with a Normal prior is slightly more powerful than T-Test, but only slightly. The difference is significant."
   ]
  },
  {
   "cell_type": "code",
   "execution_count": null,
   "id": "1906859c-e16d-49d7-9f1b-3cb52abf18a1",
   "metadata": {},
   "outputs": [],
   "source": []
  }
 ],
 "metadata": {
  "kernelspec": {
   "display_name": "Python 3 (ipykernel)",
   "language": "python",
   "name": "python3"
  },
  "language_info": {
   "codemirror_mode": {
    "name": "ipython",
    "version": 3
   },
   "file_extension": ".py",
   "mimetype": "text/x-python",
   "name": "python",
   "nbconvert_exporter": "python",
   "pygments_lexer": "ipython3",
   "version": "3.12.7"
  }
 },
 "nbformat": 4,
 "nbformat_minor": 5
}
